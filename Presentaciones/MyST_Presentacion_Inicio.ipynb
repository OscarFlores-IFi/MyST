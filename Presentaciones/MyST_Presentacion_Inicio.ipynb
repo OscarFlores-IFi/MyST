{
 "cells": [
  {
   "cell_type": "markdown",
   "metadata": {
    "slideshow": {
     "slide_type": "slide"
    }
   },
   "source": [
    "<img src=\"http://oci02.img.iteso.mx/identidad_de_instancia_2018/ITESO/Logos%20ITESO/Logo-ITESO-Principal.jpg\">"
   ]
  },
  {
   "cell_type": "markdown",
   "metadata": {
    "slideshow": {
     "slide_type": "-"
    }
   },
   "source": [
    "<center> <font color= #004A94> <font size = 6> Microestructura y Sistemas de Trading </font> <br> <br> <font color= #047CFB> <font size = 5> Ingeniería Financiera - ITESO </font>"
   ]
  },
  {
   "cell_type": "markdown",
   "metadata": {
    "slideshow": {
     "slide_type": "-"
    }
   },
   "source": [
    "---"
   ]
  },
  {
   "cell_type": "markdown",
   "metadata": {
    "slideshow": {
     "slide_type": "slide"
    }
   },
   "source": [
    "## Proposito general\n",
    "\n",
    "Desarrollar un **sistema de trading algorítmico**, con base a técnicas de **Machine Learning**, que opere en el mercado internacional de divisas **(Forex)** y cuyas bases de operación hayan sido definidas a partir del **autoconocimiento**  por parte del alumno respecto a su propio proceso de **toma de decisiones de inversión** (Utilizando como marco de entendimiento a la ciencia **Behavioral Finance**)."
   ]
  },
  {
   "cell_type": "markdown",
   "metadata": {
    "slideshow": {
     "slide_type": "slide"
    }
   },
   "source": [
    "### Propósitos particulares.\n",
    "\n",
    "- Utilizar herramientas estadísticas para hacer trading manual.\n",
    "- Analizar el trading manual realizado.\n",
    "- Herramientas para trading algorítmico.\n",
    "- Diferenciar entre Trading Manual Vs Trading Algorítmico.\n",
    "- Analizar la microestructura del mercado de forex.\n",
    "- Diseñar, programar y monitorear sistema de trading automatizado.\n",
    "\n",
    "### Lógica de clase\n",
    "\n",
    "Se lleva por módulos, hay lecturas y laboratorios por módulo, al final hay un proyecto. Tú eliges el nivel de complejidad."
   ]
  },
  {
   "cell_type": "markdown",
   "metadata": {
    "slideshow": {
     "slide_type": "slide"
    }
   },
   "source": [
    "### Módulos\n",
    "\n",
    "- **Módulo 0**: Herramientas computacionales. <br>\n",
    "Python, GitHub, pep8, Jupyter Notebook.\n",
    "\n",
    "- **Módulo 1**: Trading en Forex. <br>\n",
    "Conceptos de trading, herramientas estadísticas para trading, concurso de trading manual.\n",
    "\n",
    "- **Módulo 2**: *Behavioral Finance* para trading. <br>\n",
    "Sesgos cognitivos en la toma de decisiones, python.\n",
    "\n",
    "- **Módulo 3**: Microestructura de mercado. <br>\n",
    "Libro de ordenes en Forex CFDs\n",
    "\n",
    "- **Módulo 4**: Sistemas de trading. <br>\n",
    "Ciclo completo de sistemas de trading.\n"
   ]
  },
  {
   "cell_type": "markdown",
   "metadata": {
    "slideshow": {
     "slide_type": "slide"
    }
   },
   "source": [
    "## Criterio de calificación\n",
    "\n",
    "- (10% - 20%) **Lecturas**: 1 lectura simple + 1 lectura avanzada.\n",
    "- (50% - 60%) **Laboratorios**: 4 laboratorios simples + 4 laboratorios avanzados.\n",
    "- (40% - 45%) **Proyecto**: 1 version simple + 1 version avanzada."
   ]
  },
  {
   "cell_type": "markdown",
   "metadata": {
    "slideshow": {
     "slide_type": "slide"
    }
   },
   "source": [
    "### Lecturas\n",
    "\n",
    "1. Blogs / Videos / Artículos / Libros\n",
    "2. Siguiendo recomendacion de COE\n",
    "    - Mapa conceptual\n",
    "    - En Jupyter Notebook\n",
    "    - 500 palabras"
   ]
  },
  {
   "cell_type": "markdown",
   "metadata": {
    "slideshow": {
     "slide_type": "slide"
    }
   },
   "source": [
    "### Laboratorios (Parte 1)\n",
    "\n",
    "Aplicaciones de los temas vistos\n",
    "\n",
    "1. hay 3 individuales + 1 en equipo (aleatorio).\n",
    "2. Se trabaja en el laboratorio la 2da mitad de la clase.\n",
    "3. Tiene un repositorio en GitHub.\n",
    "4. Se actualiza el repositorio individualmente cada sesión.\n",
    "5. Se utiliza estándar de códificación *pep8*.\n",
    "6. Explicación en texto + código comentado + Fórmulas (LaTeX).\n",
    "7. Exposición de 5-10 (aleatorio) estudiantes (aleatorio).\n",
    "8. Presentación se hace en jupyter notebook slides."
   ]
  },
  {
   "cell_type": "markdown",
   "metadata": {
    "slideshow": {
     "slide_type": "subslide"
    }
   },
   "source": [
    "### Laboratorios (Parte 2)\n",
    "\n",
    "Aplicaciones de los temas vistos\n",
    "\n",
    "1. **Laboratorio 1**: Trading en Forex (MetaTrader - OANDA) <br>\n",
    "Trading ejecutado manualmente utilizando herramientas estadísticas, medidas de atribución al desempeño (manual). <br> <br>\n",
    "\n",
    "2. **Laboratorio 2**: Behavioral Finance (MetaTrader) <br>\n",
    "Búsqueda de sesgos cognitivos en laboratorio 1 (revisión por pares). <br> <br>\n",
    "\n",
    "3. **Laboratorio 3**: Microestructura del mercado (OANDA) <br>\n",
    "Análisis de patrones con el libro de ordenes. <br> <br>\n",
    "\n",
    "4. **Laboratorio 4**: Sistemas de trading  <br>\n",
    "Intro a Bots, Medidas de atribución al desempeño (Bots)"
   ]
  },
  {
   "cell_type": "markdown",
   "metadata": {
    "slideshow": {
     "slide_type": "slide"
    }
   },
   "source": [
    "### Proyecto\n",
    "\n",
    "Ciclo completo para estrategia de trading automatizada.\n",
    "\n",
    "1. **Diseño**: Conjunto de reglas para la generación de señales.\n",
    "2. **Programación**: Python\n",
    "3. **Optimización**: Búsqueda de Hyperparámetros.\n",
    "4. **Visualización**: Exploración visual de resultados.\n",
    "5. **Backtest**: Prueba en la historia.\n",
    "6. **Benchmark**: Medidas de Atribución al Desempeño."
   ]
  },
  {
   "cell_type": "markdown",
   "metadata": {
    "slideshow": {
     "slide_type": "slide"
    }
   },
   "source": [
    "## Trabajo de clase\n",
    "\n",
    "- Hacer perfil en Github (Descripción, Foto)\n",
    "- Revisar www.iteso.instructure.com"
   ]
  }
 ],
 "metadata": {
  "celltoolbar": "Slideshow",
  "kernelspec": {
   "display_name": "Python 3",
   "language": "python",
   "name": "python3"
  },
  "language_info": {
   "codemirror_mode": {
    "name": "ipython",
    "version": 3
   },
   "file_extension": ".py",
   "mimetype": "text/x-python",
   "name": "python",
   "nbconvert_exporter": "python",
   "pygments_lexer": "ipython3",
   "version": "3.6.9"
  }
 },
 "nbformat": 4,
 "nbformat_minor": 2
}
