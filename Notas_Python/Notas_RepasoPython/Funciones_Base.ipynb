{
 "cells": [
  {
   "cell_type": "markdown",
   "metadata": {},
   "source": [
    "<img src=\"http://oci02.img.iteso.mx/identidad_de_instancia_2018/ITESO/Logos%20ITESO/Logo-ITESO-Principal.jpg\">"
   ]
  },
  {
   "cell_type": "markdown",
   "metadata": {},
   "source": [
    " ---"
   ]
  },
  {
   "cell_type": "markdown",
   "metadata": {},
   "source": [
    "<center> <font color= #004A94> <font size = 4> Microestructura y Sistemas de Trading </font> <br> <br>"
   ]
  },
  {
   "cell_type": "markdown",
   "metadata": {},
   "source": [
    "<center> <font color=#42c29b><font size=3> Notas: Herramientas Computacionales </font> <br> <br>"
   ]
  },
  {
   "cell_type": "markdown",
   "metadata": {},
   "source": [
    "---"
   ]
  },
  {
   "cell_type": "markdown",
   "metadata": {},
   "source": [
    "# Abstract"
   ]
  },
  {
   "cell_type": "code",
   "execution_count": 2,
   "metadata": {},
   "outputs": [],
   "source": [
    "# -- Descargar precios OANDA\n",
    "# -- Graficar OHLC con plotly\n",
    "# -- Conteo de velas\n",
    "# -- Informacion descriptiva general de EUR_USD"
   ]
  },
  {
   "cell_type": "markdown",
   "metadata": {},
   "source": [
    "# Modulos"
   ]
  },
  {
   "cell_type": "code",
   "execution_count": 3,
   "metadata": {},
   "outputs": [],
   "source": [
    "import funciones as fn                              # Para procesamiento de datos\n",
    "import visualizaciones as vs                        # Para visualizacion de datos\n",
    "import pandas as pd                                 # Procesamiento de datos\n",
    "import numpy as np\n",
    "import plotly.express as px\n",
    "from datos import OA_Ak                             # Importar token para API de OANDA"
   ]
  },
  {
   "cell_type": "markdown",
   "metadata": {},
   "source": [
    "# Desarrollo"
   ]
  },
  {
   "cell_type": "markdown",
   "metadata": {},
   "source": [
    "Descarga Precios del servidor."
   ]
  },
  {
   "cell_type": "code",
   "execution_count": 6,
   "metadata": {},
   "outputs": [],
   "source": [
    "# -- --------------------------------------------------------- Descargar precios de OANDA -- #\n",
    "\n",
    "# token de OANDA\n",
    "OA_In = \"EUR_USD\"                  # Instrumento\n",
    "OA_Gn = \"D\"                        # Granularidad de velas\n",
    "fini = pd.to_datetime(\"2019-07-06 00:00:00\").tz_localize('GMT')  # Fecha inicial\n",
    "ffin = pd.to_datetime(\"2019-12-06 00:00:00\").tz_localize('GMT')  # Fecha final\n",
    "\n",
    "# Descargar precios masivos\n",
    "df_pe = fn.f_precios_masivos(p0_fini=fini, p1_ffin=ffin, p2_gran=OA_Gn,\n",
    "                             p3_inst=OA_In, p4_oatk=OA_Ak, p5_ginc=4900)"
   ]
  },
  {
   "cell_type": "markdown",
   "metadata": {},
   "source": [
    "Grafica de Velas"
   ]
  },
  {
   "cell_type": "code",
   "execution_count": 7,
   "metadata": {},
   "outputs": [],
   "source": [
    "# -- --------------------------------------------------------------- Graficar OHLC plotly -- #\n",
    "\n",
    "vs_grafica1 = vs.g_velas(p0_de=df_pe.iloc[0:120, :])\n",
    "vs_grafica1.show()\n"
   ]
  },
  {
   "cell_type": "markdown",
   "metadata": {},
   "source": [
    "Conteo de Velas"
   ]
  },
  {
   "cell_type": "code",
   "execution_count": 8,
   "metadata": {},
   "outputs": [],
   "source": [
    "# -- -------------------------------------------------------------------- Conteo de velas -- #\n",
    "\n",
    "# multiplicador de precios\n",
    "pip_mult = 10000\n",
    "\n",
    "# -- 0A.1: Hora\n",
    "df_pe['hora'] = [df_pe['TimeStamp'][i].hour for i in range(0, len(df_pe['TimeStamp']))]\n",
    "\n",
    "# -- 0A.2: Dia de la semana.\n",
    "df_pe['dia'] = [df_pe['TimeStamp'][i].weekday() for i in range(0, len(df_pe['TimeStamp']))]\n",
    "\n",
    "# -- 0B: Boxplot de amplitud de velas (close - open).\n",
    "df_pe['co'] = (df_pe['Close'] - df_pe['Open'])*pip_mult"
   ]
  },
  {
   "cell_type": "code",
   "execution_count": 9,
   "metadata": {},
   "outputs": [
    {
     "data": {
      "text/html": [
       "<div>\n",
       "<style scoped>\n",
       "    .dataframe tbody tr th:only-of-type {\n",
       "        vertical-align: middle;\n",
       "    }\n",
       "\n",
       "    .dataframe tbody tr th {\n",
       "        vertical-align: top;\n",
       "    }\n",
       "\n",
       "    .dataframe thead th {\n",
       "        text-align: right;\n",
       "    }\n",
       "</style>\n",
       "<table border=\"1\" class=\"dataframe\">\n",
       "  <thead>\n",
       "    <tr style=\"text-align: right;\">\n",
       "      <th></th>\n",
       "      <th>TimeStamp</th>\n",
       "      <th>Open</th>\n",
       "      <th>High</th>\n",
       "      <th>Low</th>\n",
       "      <th>Close</th>\n",
       "      <th>hora</th>\n",
       "      <th>dia</th>\n",
       "      <th>co</th>\n",
       "    </tr>\n",
       "  </thead>\n",
       "  <tbody>\n",
       "    <tr>\n",
       "      <td>0</td>\n",
       "      <td>2019-07-05 20:00:00+00:00</td>\n",
       "      <td>1.12264</td>\n",
       "      <td>1.12278</td>\n",
       "      <td>1.12247</td>\n",
       "      <td>1.12255</td>\n",
       "      <td>20</td>\n",
       "      <td>4</td>\n",
       "      <td>-0.9</td>\n",
       "    </tr>\n",
       "    <tr>\n",
       "      <td>1</td>\n",
       "      <td>2019-07-07 20:00:00+00:00</td>\n",
       "      <td>1.12248</td>\n",
       "      <td>1.12344</td>\n",
       "      <td>1.12071</td>\n",
       "      <td>1.12093</td>\n",
       "      <td>20</td>\n",
       "      <td>6</td>\n",
       "      <td>-15.5</td>\n",
       "    </tr>\n",
       "    <tr>\n",
       "      <td>2</td>\n",
       "      <td>2019-07-08 20:00:00+00:00</td>\n",
       "      <td>1.12095</td>\n",
       "      <td>1.12188</td>\n",
       "      <td>1.11935</td>\n",
       "      <td>1.12066</td>\n",
       "      <td>20</td>\n",
       "      <td>0</td>\n",
       "      <td>-2.9</td>\n",
       "    </tr>\n",
       "    <tr>\n",
       "      <td>3</td>\n",
       "      <td>2019-07-09 20:00:00+00:00</td>\n",
       "      <td>1.12070</td>\n",
       "      <td>1.12643</td>\n",
       "      <td>1.12020</td>\n",
       "      <td>1.12536</td>\n",
       "      <td>20</td>\n",
       "      <td>1</td>\n",
       "      <td>46.6</td>\n",
       "    </tr>\n",
       "    <tr>\n",
       "      <td>4</td>\n",
       "      <td>2019-07-10 20:00:00+00:00</td>\n",
       "      <td>1.12533</td>\n",
       "      <td>1.12858</td>\n",
       "      <td>1.12454</td>\n",
       "      <td>1.12570</td>\n",
       "      <td>20</td>\n",
       "      <td>2</td>\n",
       "      <td>3.7</td>\n",
       "    </tr>\n",
       "  </tbody>\n",
       "</table>\n",
       "</div>"
      ],
      "text/plain": [
       "                  TimeStamp     Open     High      Low    Close  hora  dia    co\n",
       "0 2019-07-05 20:00:00+00:00  1.12264  1.12278  1.12247  1.12255    20    4  -0.9\n",
       "1 2019-07-07 20:00:00+00:00  1.12248  1.12344  1.12071  1.12093    20    6 -15.5\n",
       "2 2019-07-08 20:00:00+00:00  1.12095  1.12188  1.11935  1.12066    20    0  -2.9\n",
       "3 2019-07-09 20:00:00+00:00  1.12070  1.12643  1.12020  1.12536    20    1  46.6\n",
       "4 2019-07-10 20:00:00+00:00  1.12533  1.12858  1.12454  1.12570    20    2   3.7"
      ]
     },
     "execution_count": 9,
     "metadata": {},
     "output_type": "execute_result"
    }
   ],
   "source": [
    "# Para visualizar el estado actual del DataFrame con la información deseada. \n",
    "df_pe.head()"
   ]
  },
  {
   "cell_type": "markdown",
   "metadata": {},
   "source": [
    "Grafica de cajas y bigotes (Boxplot)"
   ]
  },
  {
   "cell_type": "code",
   "execution_count": 10,
   "metadata": {},
   "outputs": [],
   "source": [
    "# -- ------------------------------------------------------------ Graficar Boxplot plotly -- #\n",
    "vs_grafica2 = vs.g_boxplot_varios(p0_data=df_pe[['co']], p1_norm=False)\n",
    "vs_grafica2.show()"
   ]
  },
  {
   "cell_type": "markdown",
   "metadata": {},
   "source": [
    "Mes en el que ocurre la vela"
   ]
  },
  {
   "cell_type": "code",
   "execution_count": 11,
   "metadata": {},
   "outputs": [],
   "source": [
    "# -- 01: Mes de la vela.\n",
    "df_pe['mes'] = [df_pe['TimeStamp'][i].month for i in range(0,len(df_pe['TimeStamp']))]"
   ]
  },
  {
   "cell_type": "markdown",
   "metadata": {},
   "source": [
    "Sesion en la que ocurre la vela (Europa, Asia, America, ...)"
   ]
  },
  {
   "cell_type": "code",
   "execution_count": 12,
   "metadata": {},
   "outputs": [],
   "source": [
    "# -- 02: Sesion de la vela.\n",
    "sesion = []\n",
    "for i  in range(len(df_pe.mes)):\n",
    "    if i in [22, 23, 0, 1, 2, 3, 4, 5, 6, 7]:\n",
    "        s = 'asia'\n",
    "    elif i in [8]:\n",
    "        s = 'asia_europa'\n",
    "    elif i in [9, 10, 11, 12]:\n",
    "        s = 'europa'\n",
    "    elif i in [13, 14, 15, 16]:\n",
    "        s = 'europa_america'\n",
    "    elif i in [17, 18, 19, 20, 21]:\n",
    "        s = 'america'\n",
    "    sesion.append(s)\n",
    "df_pe['sesion'] = sesion"
   ]
  },
  {
   "cell_type": "markdown",
   "metadata": {},
   "source": [
    "Amplitud entre precio de apertura y precio de cierre. "
   ]
  },
  {
   "cell_type": "code",
   "execution_count": 13,
   "metadata": {},
   "outputs": [],
   "source": [
    "# -- 03: Amplitud OC esperada de vela para cualquier dia de la semana (Dist de Freq).\n",
    "df_pe['OC'] = (df_pe.Open - df_pe.Close)*pip_mult"
   ]
  },
  {
   "cell_type": "markdown",
   "metadata": {},
   "source": [
    "Amplitud entre precio mínimo y máximo."
   ]
  },
  {
   "cell_type": "code",
   "execution_count": 14,
   "metadata": {},
   "outputs": [],
   "source": [
    "# -- 04: Amplitud HL esperada de vela para cualquier dia de la semana (Dist de Freq).\n",
    "df_pe['hl'] = (df_pe.High - df_pe.Low)*pip_mult"
   ]
  },
  {
   "cell_type": "markdown",
   "metadata": {},
   "source": [
    "Evolución de las velas. Consiste en dos partes, la primera calcular si es alcista o bajista,\n",
    "la segunda en contar la cantidad de velas seguidas. "
   ]
  },
  {
   "cell_type": "code",
   "execution_count": 15,
   "metadata": {},
   "outputs": [],
   "source": [
    "# -- 05: Evolucion de velas consecutivas (1: Alcistas, 0: Bajistas).\n",
    "df_pe['sentido'] = ['alcista'if i>=0 else 'bajista' for i in df_pe.co]\n",
    "df_pe['sentido_c'] = fn.secuencial(df_pe.sentido)"
   ]
  },
  {
   "cell_type": "markdown",
   "metadata": {},
   "source": [
    "Máxima diferencia entre precio mínimo y máximo de los últimos 5, 25 y 50 días pasados"
   ]
  },
  {
   "cell_type": "code",
   "execution_count": 16,
   "metadata": {},
   "outputs": [],
   "source": [
    "# -- 06: Maxima evolucion esperada de velas consecutivas (Dist Acum de Freq).\n",
    "periodos = [5, 25, 50]\n",
    "tmp = [[df_pe['hl'][i:i+5].max() for i in range(len(df_pe.hl)-j)] for j in periodos]\n",
    "volatilidad_5 = tmp[0]\n",
    "volatilidad_25 = tmp[1]\n",
    "volatilidad_50 = tmp[2]"
   ]
  },
  {
   "cell_type": "markdown",
   "metadata": {},
   "source": [
    "Graficas: \n",
    "- De diferencias entre apertura y cierre de precios, expresada en pips.\n",
    "- De volatilidad en los últimos 25 días. "
   ]
  },
  {
   "cell_type": "code",
   "execution_count": 17,
   "metadata": {},
   "outputs": [],
   "source": [
    "# -- 07: Calculo + Grafica autopropuesta.\n",
    "px.line(df_pe, x = \"TimeStamp\", y = \"OC\", title = 'Open-Close pips').show()"
   ]
  },
  {
   "cell_type": "code",
   "execution_count": 21,
   "metadata": {},
   "outputs": [],
   "source": [
    "fig = px.line(x = np.arange(len(volatilidad_25)), y = volatilidad_25)\n",
    "fig.update_layout(\n",
    "    title=\"Volatilidad 25\",\n",
    "    xaxis_title=\"tiempo\",\n",
    "    yaxis_title=\"max_diff_OC\")\n",
    "fig.show()"
   ]
  }
 ],
 "metadata": {
  "kernelspec": {
   "display_name": "Python 3",
   "language": "python",
   "name": "python3"
  },
  "language_info": {
   "codemirror_mode": {
    "name": "ipython",
    "version": 3
   },
   "file_extension": ".py",
   "mimetype": "text/x-python",
   "name": "python",
   "nbconvert_exporter": "python",
   "pygments_lexer": "ipython3",
   "version": "3.7.4"
  }
 },
 "nbformat": 4,
 "nbformat_minor": 2
}
